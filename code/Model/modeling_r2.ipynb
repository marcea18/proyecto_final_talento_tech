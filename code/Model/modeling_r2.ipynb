{
 "cells": [
  {
   "cell_type": "markdown",
   "metadata": {},
   "source": [
    "# Modelado de la Resistencia del día 2 (R2)"
   ]
  },
  {
   "cell_type": "markdown",
   "metadata": {},
   "source": [
    "## Librerías necesarias"
   ]
  },
  {
   "cell_type": "code",
   "execution_count": 1,
   "metadata": {},
   "outputs": [
    {
     "name": "stderr",
     "output_type": "stream",
     "text": [
      "c:\\dev\\proyecto_final_talento_tech\\.venv\\Lib\\site-packages\\tqdm\\auto.py:21: TqdmWarning: IProgress not found. Please update jupyter and ipywidgets. See https://ipywidgets.readthedocs.io/en/stable/user_install.html\n",
      "  from .autonotebook import tqdm as notebook_tqdm\n"
     ]
    }
   ],
   "source": [
    "import warnings\n",
    "import shap\n",
    "import matplotlib.pyplot as plt\n",
    "import numpy as np\n",
    "import pandas as pd\n",
    "from sklearn.ensemble import RandomForestRegressor, GradientBoostingRegressor\n",
    "from xgboost import XGBRegressor\n",
    "from sklearn.model_selection import GridSearchCV\n",
    "from sklearn.tree import DecisionTreeRegressor\n",
    "from sklearn.svm import SVR\n",
    "from catboost import CatBoostRegressor\n",
    "from sklearn.linear_model import Ridge, Lasso, ElasticNet, SGDRegressor\n",
    "from sklearn.metrics import make_scorer,mean_absolute_error, root_mean_squared_error, r2_score\n",
    "from sklearn.model_selection import train_test_split\n",
    "from joblib import dump\n",
    "\n",
    "\n",
    "warnings.filterwarnings(\"ignore\")"
   ]
  },
  {
   "cell_type": "markdown",
   "metadata": {},
   "source": [
    "## Lectura del dataframe preprocesado"
   ]
  },
  {
   "cell_type": "code",
   "execution_count": 2,
   "metadata": {},
   "outputs": [
    {
     "data": {
      "text/html": [
       "<div>\n",
       "<style scoped>\n",
       "    .dataframe tbody tr th:only-of-type {\n",
       "        vertical-align: middle;\n",
       "    }\n",
       "\n",
       "    .dataframe tbody tr th {\n",
       "        vertical-align: top;\n",
       "    }\n",
       "\n",
       "    .dataframe thead th {\n",
       "        text-align: right;\n",
       "    }\n",
       "</style>\n",
       "<table border=\"1\" class=\"dataframe\">\n",
       "  <thead>\n",
       "    <tr style=\"text-align: right;\">\n",
       "      <th></th>\n",
       "      <th>g45µ</th>\n",
       "      <th>sba</th>\n",
       "      <th>pf</th>\n",
       "      <th>so3</th>\n",
       "      <th>mgo</th>\n",
       "      <th>sio2</th>\n",
       "      <th>fe2o3</th>\n",
       "      <th>caot</th>\n",
       "      <th>al2o3</th>\n",
       "      <th>na2o</th>\n",
       "      <th>k2o</th>\n",
       "      <th>r1_iram1622</th>\n",
       "      <th>r2_iram1622</th>\n",
       "      <th>r3_iram1622</th>\n",
       "      <th>r7_iram1622</th>\n",
       "      <th>r28_iram1622</th>\n",
       "    </tr>\n",
       "  </thead>\n",
       "  <tbody>\n",
       "    <tr>\n",
       "      <th>0</th>\n",
       "      <td>3.812795</td>\n",
       "      <td>-1.148425</td>\n",
       "      <td>-0.961584</td>\n",
       "      <td>0.066093</td>\n",
       "      <td>1.331346</td>\n",
       "      <td>1.013914</td>\n",
       "      <td>0.680253</td>\n",
       "      <td>-1.139153</td>\n",
       "      <td>1.413597</td>\n",
       "      <td>0.268635</td>\n",
       "      <td>0.370206</td>\n",
       "      <td>NaN</td>\n",
       "      <td>31.3</td>\n",
       "      <td>NaN</td>\n",
       "      <td>50.1</td>\n",
       "      <td>61.8</td>\n",
       "    </tr>\n",
       "    <tr>\n",
       "      <th>1</th>\n",
       "      <td>4.248908</td>\n",
       "      <td>-0.997865</td>\n",
       "      <td>-1.246387</td>\n",
       "      <td>-0.028001</td>\n",
       "      <td>-0.275250</td>\n",
       "      <td>1.409876</td>\n",
       "      <td>-0.729389</td>\n",
       "      <td>-1.026542</td>\n",
       "      <td>0.839199</td>\n",
       "      <td>0.851931</td>\n",
       "      <td>0.039432</td>\n",
       "      <td>19.1</td>\n",
       "      <td>32.2</td>\n",
       "      <td>37.9</td>\n",
       "      <td>49.4</td>\n",
       "      <td>60.5</td>\n",
       "    </tr>\n",
       "    <tr>\n",
       "      <th>2</th>\n",
       "      <td>4.248908</td>\n",
       "      <td>-0.997865</td>\n",
       "      <td>-0.961584</td>\n",
       "      <td>0.160186</td>\n",
       "      <td>0.814940</td>\n",
       "      <td>1.530386</td>\n",
       "      <td>0.382059</td>\n",
       "      <td>-0.197318</td>\n",
       "      <td>1.064856</td>\n",
       "      <td>0.657499</td>\n",
       "      <td>0.064876</td>\n",
       "      <td>NaN</td>\n",
       "      <td>32.0</td>\n",
       "      <td>NaN</td>\n",
       "      <td>47.4</td>\n",
       "      <td>61.5</td>\n",
       "    </tr>\n",
       "    <tr>\n",
       "      <th>3</th>\n",
       "      <td>4.514369</td>\n",
       "      <td>-1.248798</td>\n",
       "      <td>-0.802094</td>\n",
       "      <td>-0.404374</td>\n",
       "      <td>-0.217872</td>\n",
       "      <td>1.263542</td>\n",
       "      <td>-0.729389</td>\n",
       "      <td>-0.350878</td>\n",
       "      <td>0.818685</td>\n",
       "      <td>0.657499</td>\n",
       "      <td>0.064876</td>\n",
       "      <td>NaN</td>\n",
       "      <td>29.9</td>\n",
       "      <td>NaN</td>\n",
       "      <td>46.2</td>\n",
       "      <td>60.1</td>\n",
       "    </tr>\n",
       "    <tr>\n",
       "      <th>4</th>\n",
       "      <td>2.371723</td>\n",
       "      <td>-1.349171</td>\n",
       "      <td>-0.756526</td>\n",
       "      <td>-0.310281</td>\n",
       "      <td>-0.390007</td>\n",
       "      <td>1.452915</td>\n",
       "      <td>-0.512521</td>\n",
       "      <td>-1.047017</td>\n",
       "      <td>0.962285</td>\n",
       "      <td>0.851931</td>\n",
       "      <td>0.115765</td>\n",
       "      <td>17.5</td>\n",
       "      <td>30.1</td>\n",
       "      <td>35.8</td>\n",
       "      <td>47.3</td>\n",
       "      <td>58.5</td>\n",
       "    </tr>\n",
       "  </tbody>\n",
       "</table>\n",
       "</div>"
      ],
      "text/plain": [
       "       g45µ       sba        pf       so3       mgo      sio2     fe2o3  \\\n",
       "0  3.812795 -1.148425 -0.961584  0.066093  1.331346  1.013914  0.680253   \n",
       "1  4.248908 -0.997865 -1.246387 -0.028001 -0.275250  1.409876 -0.729389   \n",
       "2  4.248908 -0.997865 -0.961584  0.160186  0.814940  1.530386  0.382059   \n",
       "3  4.514369 -1.248798 -0.802094 -0.404374 -0.217872  1.263542 -0.729389   \n",
       "4  2.371723 -1.349171 -0.756526 -0.310281 -0.390007  1.452915 -0.512521   \n",
       "\n",
       "       caot     al2o3      na2o       k2o  r1_iram1622  r2_iram1622  \\\n",
       "0 -1.139153  1.413597  0.268635  0.370206          NaN         31.3   \n",
       "1 -1.026542  0.839199  0.851931  0.039432         19.1         32.2   \n",
       "2 -0.197318  1.064856  0.657499  0.064876          NaN         32.0   \n",
       "3 -0.350878  0.818685  0.657499  0.064876          NaN         29.9   \n",
       "4 -1.047017  0.962285  0.851931  0.115765         17.5         30.1   \n",
       "\n",
       "   r3_iram1622  r7_iram1622  r28_iram1622  \n",
       "0          NaN         50.1          61.8  \n",
       "1         37.9         49.4          60.5  \n",
       "2          NaN         47.4          61.5  \n",
       "3          NaN         46.2          60.1  \n",
       "4         35.8         47.3          58.5  "
      ]
     },
     "execution_count": 2,
     "metadata": {},
     "output_type": "execute_result"
    }
   ],
   "source": [
    "df = pd.read_csv('../data/CPN50_preprocessed.csv', sep=\"|\")\n",
    "\n",
    "df.head()"
   ]
  },
  {
   "cell_type": "markdown",
   "metadata": {},
   "source": [
    "## Organización del dataframe para el análisis"
   ]
  },
  {
   "cell_type": "code",
   "execution_count": 3,
   "metadata": {},
   "outputs": [
    {
     "data": {
      "text/html": [
       "<div>\n",
       "<style scoped>\n",
       "    .dataframe tbody tr th:only-of-type {\n",
       "        vertical-align: middle;\n",
       "    }\n",
       "\n",
       "    .dataframe tbody tr th {\n",
       "        vertical-align: top;\n",
       "    }\n",
       "\n",
       "    .dataframe thead th {\n",
       "        text-align: right;\n",
       "    }\n",
       "</style>\n",
       "<table border=\"1\" class=\"dataframe\">\n",
       "  <thead>\n",
       "    <tr style=\"text-align: right;\">\n",
       "      <th></th>\n",
       "      <th>g45µ</th>\n",
       "      <th>sba</th>\n",
       "      <th>pf</th>\n",
       "      <th>so3</th>\n",
       "      <th>mgo</th>\n",
       "      <th>sio2</th>\n",
       "      <th>fe2o3</th>\n",
       "      <th>caot</th>\n",
       "      <th>al2o3</th>\n",
       "      <th>na2o</th>\n",
       "      <th>k2o</th>\n",
       "      <th>r2_iram1622</th>\n",
       "    </tr>\n",
       "  </thead>\n",
       "  <tbody>\n",
       "    <tr>\n",
       "      <th>0</th>\n",
       "      <td>3.812795</td>\n",
       "      <td>-1.148425</td>\n",
       "      <td>-0.961584</td>\n",
       "      <td>0.066093</td>\n",
       "      <td>1.331346</td>\n",
       "      <td>1.013914</td>\n",
       "      <td>0.680253</td>\n",
       "      <td>-1.139153</td>\n",
       "      <td>1.413597</td>\n",
       "      <td>0.268635</td>\n",
       "      <td>0.370206</td>\n",
       "      <td>31.3</td>\n",
       "    </tr>\n",
       "    <tr>\n",
       "      <th>1</th>\n",
       "      <td>4.248908</td>\n",
       "      <td>-0.997865</td>\n",
       "      <td>-1.246387</td>\n",
       "      <td>-0.028001</td>\n",
       "      <td>-0.275250</td>\n",
       "      <td>1.409876</td>\n",
       "      <td>-0.729389</td>\n",
       "      <td>-1.026542</td>\n",
       "      <td>0.839199</td>\n",
       "      <td>0.851931</td>\n",
       "      <td>0.039432</td>\n",
       "      <td>32.2</td>\n",
       "    </tr>\n",
       "    <tr>\n",
       "      <th>2</th>\n",
       "      <td>4.248908</td>\n",
       "      <td>-0.997865</td>\n",
       "      <td>-0.961584</td>\n",
       "      <td>0.160186</td>\n",
       "      <td>0.814940</td>\n",
       "      <td>1.530386</td>\n",
       "      <td>0.382059</td>\n",
       "      <td>-0.197318</td>\n",
       "      <td>1.064856</td>\n",
       "      <td>0.657499</td>\n",
       "      <td>0.064876</td>\n",
       "      <td>32.0</td>\n",
       "    </tr>\n",
       "    <tr>\n",
       "      <th>3</th>\n",
       "      <td>4.514369</td>\n",
       "      <td>-1.248798</td>\n",
       "      <td>-0.802094</td>\n",
       "      <td>-0.404374</td>\n",
       "      <td>-0.217872</td>\n",
       "      <td>1.263542</td>\n",
       "      <td>-0.729389</td>\n",
       "      <td>-0.350878</td>\n",
       "      <td>0.818685</td>\n",
       "      <td>0.657499</td>\n",
       "      <td>0.064876</td>\n",
       "      <td>29.9</td>\n",
       "    </tr>\n",
       "    <tr>\n",
       "      <th>4</th>\n",
       "      <td>2.371723</td>\n",
       "      <td>-1.349171</td>\n",
       "      <td>-0.756526</td>\n",
       "      <td>-0.310281</td>\n",
       "      <td>-0.390007</td>\n",
       "      <td>1.452915</td>\n",
       "      <td>-0.512521</td>\n",
       "      <td>-1.047017</td>\n",
       "      <td>0.962285</td>\n",
       "      <td>0.851931</td>\n",
       "      <td>0.115765</td>\n",
       "      <td>30.1</td>\n",
       "    </tr>\n",
       "  </tbody>\n",
       "</table>\n",
       "</div>"
      ],
      "text/plain": [
       "       g45µ       sba        pf       so3       mgo      sio2     fe2o3  \\\n",
       "0  3.812795 -1.148425 -0.961584  0.066093  1.331346  1.013914  0.680253   \n",
       "1  4.248908 -0.997865 -1.246387 -0.028001 -0.275250  1.409876 -0.729389   \n",
       "2  4.248908 -0.997865 -0.961584  0.160186  0.814940  1.530386  0.382059   \n",
       "3  4.514369 -1.248798 -0.802094 -0.404374 -0.217872  1.263542 -0.729389   \n",
       "4  2.371723 -1.349171 -0.756526 -0.310281 -0.390007  1.452915 -0.512521   \n",
       "\n",
       "       caot     al2o3      na2o       k2o  r2_iram1622  \n",
       "0 -1.139153  1.413597  0.268635  0.370206         31.3  \n",
       "1 -1.026542  0.839199  0.851931  0.039432         32.2  \n",
       "2 -0.197318  1.064856  0.657499  0.064876         32.0  \n",
       "3 -0.350878  0.818685  0.657499  0.064876         29.9  \n",
       "4 -1.047017  0.962285  0.851931  0.115765         30.1  "
      ]
     },
     "execution_count": 3,
     "metadata": {},
     "output_type": "execute_result"
    }
   ],
   "source": [
    "df = df.drop(columns=['r1_iram1622', 'r3_iram1622', 'r7_iram1622', 'r28_iram1622'])\n",
    "\n",
    "df.head()"
   ]
  },
  {
   "cell_type": "markdown",
   "metadata": {},
   "source": [
    "### Como se evidenció del EDA, se particionará el conjunto de datos en 2:\n",
    "* Resistencia dia 2 con valores nulos\n",
    "* Resistencia dia 2 con valores"
   ]
  },
  {
   "cell_type": "code",
   "execution_count": 4,
   "metadata": {},
   "outputs": [
    {
     "name": "stdout",
     "output_type": "stream",
     "text": [
      "DataFrame con valores no nulos:\n",
      "<class 'pandas.core.frame.DataFrame'>\n",
      "Index: 941 entries, 0 to 1033\n",
      "Data columns (total 12 columns):\n",
      " #   Column       Non-Null Count  Dtype  \n",
      "---  ------       --------------  -----  \n",
      " 0   g45µ         941 non-null    float64\n",
      " 1   sba          941 non-null    float64\n",
      " 2   pf           941 non-null    float64\n",
      " 3   so3          941 non-null    float64\n",
      " 4   mgo          941 non-null    float64\n",
      " 5   sio2         941 non-null    float64\n",
      " 6   fe2o3        941 non-null    float64\n",
      " 7   caot         941 non-null    float64\n",
      " 8   al2o3        941 non-null    float64\n",
      " 9   na2o         941 non-null    float64\n",
      " 10  k2o          941 non-null    float64\n",
      " 11  r2_iram1622  941 non-null    float64\n",
      "dtypes: float64(12)\n",
      "memory usage: 95.6 KB\n",
      "\n",
      "DataFrame con valores nulos:\n",
      "<class 'pandas.core.frame.DataFrame'>\n",
      "Index: 94 entries, 203 to 1034\n",
      "Data columns (total 12 columns):\n",
      " #   Column       Non-Null Count  Dtype  \n",
      "---  ------       --------------  -----  \n",
      " 0   g45µ         94 non-null     float64\n",
      " 1   sba          94 non-null     float64\n",
      " 2   pf           94 non-null     float64\n",
      " 3   so3          94 non-null     float64\n",
      " 4   mgo          94 non-null     float64\n",
      " 5   sio2         94 non-null     float64\n",
      " 6   fe2o3        94 non-null     float64\n",
      " 7   caot         94 non-null     float64\n",
      " 8   al2o3        94 non-null     float64\n",
      " 9   na2o         94 non-null     float64\n",
      " 10  k2o          94 non-null     float64\n",
      " 11  r2_iram1622  0 non-null      float64\n",
      "dtypes: float64(12)\n",
      "memory usage: 9.5 KB\n"
     ]
    }
   ],
   "source": [
    "df_r2 = df.copy()\n",
    "\n",
    "df_r2_not_null = df_r2.dropna(subset=['r2_iram1622'])\n",
    "df_r2_null = df_r2[df_r2['r2_iram1622'].isna()]\n",
    "\n",
    "print(\"DataFrame con valores no nulos:\")\n",
    "df_r2_not_null.info()\n",
    "\n",
    "print(\"\\nDataFrame con valores nulos:\")\n",
    "df_r2_null.info()"
   ]
  },
  {
   "cell_type": "markdown",
   "metadata": {},
   "source": [
    "## Guardado de los valores nulos para un análisis con los modelos obtenidos"
   ]
  },
  {
   "cell_type": "code",
   "execution_count": 5,
   "metadata": {},
   "outputs": [],
   "source": [
    "df_r2_null.to_csv('../data/r2/r2_null_values.csv', sep=\"|\", index=False)"
   ]
  },
  {
   "cell_type": "markdown",
   "metadata": {},
   "source": [
    "## Creación de los conjuntos X y Y para el modelado"
   ]
  },
  {
   "cell_type": "code",
   "execution_count": 6,
   "metadata": {},
   "outputs": [],
   "source": [
    "X = df_r2_not_null.drop(columns=['r2_iram1622'])\n",
    "y = df_r2_not_null['r2_iram1622']"
   ]
  },
  {
   "cell_type": "markdown",
   "metadata": {},
   "source": [
    "## División en conjunto de datos de entrenamiento, prueba y validación"
   ]
  },
  {
   "cell_type": "markdown",
   "metadata": {},
   "source": [
    "Se divide de la siguiente manera:\n",
    "* Entrenamiento: 70%\n",
    "* Test: 15%\n",
    "* Validación: 15%"
   ]
  },
  {
   "cell_type": "code",
   "execution_count": 7,
   "metadata": {},
   "outputs": [],
   "source": [
    "X_train, X_temp, y_train, y_temp = train_test_split(X, y, train_size=0.7, random_state=42)\n",
    "X_val, X_test, y_val, y_test = train_test_split(X_temp, y_temp, test_size=0.5, random_state=42)"
   ]
  },
  {
   "cell_type": "code",
   "execution_count": 8,
   "metadata": {},
   "outputs": [
    {
     "name": "stdout",
     "output_type": "stream",
     "text": [
      "Dimensiones del conjunto de entrenamiento (X_train, y_train): (658, 11) (658,)\n",
      "Dimensiones del conjunto de prueba (X_test, y_test): (142, 11) (142,)\n",
      "Dimensiones del conjunto de validación (X_val, y_val): (141, 11) (141,)\n"
     ]
    }
   ],
   "source": [
    "print(\"Dimensiones del conjunto de entrenamiento (X_train, y_train):\", X_train.shape, y_train.shape)\n",
    "print(\"Dimensiones del conjunto de prueba (X_test, y_test):\", X_test.shape, y_test.shape)\n",
    "print(\"Dimensiones del conjunto de validación (X_val, y_val):\", X_val.shape, y_val.shape)"
   ]
  },
  {
   "cell_type": "markdown",
   "metadata": {},
   "source": [
    "### Guardado de los conjuntos en archivos planos"
   ]
  },
  {
   "cell_type": "code",
   "execution_count": 9,
   "metadata": {},
   "outputs": [],
   "source": [
    "df_train = pd.concat([X_train, y_train], axis=1)\n",
    "df_val = pd.concat([X_val, y_val], axis=1)\n",
    "df_test = pd.concat([X_test, y_test], axis=1)\n",
    "\n",
    "df_train.to_csv('../data/r2/r2_train.csv', sep=\"|\", index=False)\n",
    "df_val.to_csv('../data/r2/r2_val.csv', sep=\"|\", index=False)\n",
    "df_test.to_csv('../data/r2/r2_test.csv', sep=\"|\", index=False)"
   ]
  },
  {
   "cell_type": "markdown",
   "metadata": {},
   "source": [
    "## Configuración de los modelos de regresión con sus hiperparámetros"
   ]
  },
  {
   "cell_type": "code",
   "execution_count": 10,
   "metadata": {},
   "outputs": [],
   "source": [
    "models = {\n",
    "    \"RandomForest\": (\n",
    "        RandomForestRegressor(),\n",
    "        {\n",
    "            \"n_estimators\": [100, 200, 300, 500],\n",
    "            \"max_depth\": [10, 20, 30, None],\n",
    "            \"min_samples_split\": [2, 5, 10],\n",
    "            \"min_samples_leaf\": [1, 2, 4]\n",
    "        }\n",
    "    ),\n",
    "    \"GradientBoosting\": (\n",
    "        GradientBoostingRegressor(),\n",
    "        {\n",
    "            \"n_estimators\": [100, 200, 300],\n",
    "            \"learning_rate\": [0.01, 0.1, 0.2],\n",
    "            \"max_depth\": [3, 4, 5],\n",
    "            \"subsample\": [0.8, 0.9, 1.0]\n",
    "        }\n",
    "    ),\n",
    "    \"XGB\": (\n",
    "        XGBRegressor(),\n",
    "        {\n",
    "            \"n_estimators\": [100, 200, 300],\n",
    "            \"learning_rate\": [0.01, 0.1, 0.2],\n",
    "            \"max_depth\": [3, 4, 5],\n",
    "            \"subsample\": [0.8, 0.9, 1.0]\n",
    "        }\n",
    "    ),\n",
    "    \"CatBoost\": (\n",
    "        CatBoostRegressor(verbose=0),\n",
    "        {\n",
    "            \"iterations\": [100, 200, 300],\n",
    "            \"learning_rate\": [0.01, 0.1, 0.2],\n",
    "            \"depth\": [3, 4, 5]\n",
    "        }\n",
    "    ),\n",
    "    \"Ridge Regression\": (\n",
    "        Ridge(),\n",
    "        {\n",
    "            \"alpha\": [0.1, 1, 10, 100]\n",
    "        }\n",
    "    ),\n",
    "    \"Lasso Regression\": (\n",
    "        Lasso(),\n",
    "        {\n",
    "            \"alpha\": [0.1, 1, 10, 100]\n",
    "        }\n",
    "    ),\n",
    "    \"ElasticNet\": (\n",
    "        ElasticNet(),\n",
    "        {\n",
    "            \"alpha\": [0.1, 1, 10, 100],\n",
    "            \"l1_ratio\": [0.1, 0.5, 0.9]\n",
    "        }\n",
    "    ),\n",
    "    \"SGD Regression\": (\n",
    "        SGDRegressor(),\n",
    "        {\n",
    "            \"alpha\": [0.0001, 0.001, 0.01, 0.1],\n",
    "            \"penalty\": ['l2', 'l1', 'elasticnet'],\n",
    "            \"max_iter\": [1000, 2000, 3000]\n",
    "        }\n",
    "    ),\n",
    "    \"Decision Tree Regressor\": (\n",
    "        DecisionTreeRegressor(),\n",
    "        {\n",
    "            \"max_depth\": [10, 20, 30, None],\n",
    "            \"min_samples_split\": [2, 5, 10],\n",
    "            \"min_samples_leaf\": [1, 2, 4]\n",
    "        }\n",
    "    )\n",
    "}"
   ]
  },
  {
   "cell_type": "code",
   "execution_count": 11,
   "metadata": {},
   "outputs": [],
   "source": [
    "warnings.filterwarnings(\"ignore\", category=UserWarning, message=\".*No further splits with positive gain.*\")"
   ]
  },
  {
   "cell_type": "markdown",
   "metadata": {},
   "source": [
    "## Inicialización de las variables tanto métricas como valores a comparar de los modelos"
   ]
  },
  {
   "cell_type": "code",
   "execution_count": 12,
   "metadata": {},
   "outputs": [],
   "source": [
    "best_model = None\n",
    "best_score = float('inf')\n",
    "best_model_name = \"\"\n",
    "best_params = {}\n",
    "best_test_rmse = float('inf')\n",
    "best_score_rmse = float('inf')\n",
    "best_score_mae = float('inf')\n",
    "best_score_r2 = float('-inf')  # R² maximiza, por lo que comenzamos con el menor valor posible\n",
    "best_model_rmse = None\n",
    "best_model_mae = None\n",
    "best_model_r2 = None\n",
    "best_params_rmse = {}\n",
    "best_params_mae = {}\n",
    "best_params_r2 = {}"
   ]
  },
  {
   "cell_type": "markdown",
   "metadata": {},
   "source": [
    "### Explicación métricas"
   ]
  },
  {
   "cell_type": "markdown",
   "metadata": {},
   "source": [
    "#### Root Mean Squared Error (RMSE)"
   ]
  },
  {
   "cell_type": "markdown",
   "metadata": {},
   "source": [
    "El RMSE es la raíz cuadrada de la media de los errores al cuadrado entre los valores predichos y los valores reales. Es una medida de la magnitud promedio del error\n",
    "\n",
    "* Interpretación:\n",
    "    * Valor bajo: Indica que el modelo tiene un buen desempeño y los errores de predicción son pequeños\n",
    "    * Valor alto: Indica que el modelo tiene un mal desempeño y los errores de predicción son grandes\n",
    "\n",
    "El RMSE tiene las mismas unidades que la variable objetivo, lo que facilita su interpretación"
   ]
  },
  {
   "cell_type": "markdown",
   "metadata": {},
   "source": [
    "---"
   ]
  },
  {
   "cell_type": "markdown",
   "metadata": {},
   "source": [
    "#### Mean Absolute Error (MAE)"
   ]
  },
  {
   "cell_type": "markdown",
   "metadata": {},
   "source": [
    "El MAE es la media de los valores absolutos de los errores entre los valores predichos y los valores reales. Es una medida de la magnitud promedio del error sin considerar su dirección\n",
    "\n",
    "* Interpretación:\n",
    "    * Valor bajo: Indica que el modelo tiene un buen desempeño y los errores de predicción son pequeños\n",
    "    * Valor alto: Indica que el modelo tiene un mal desempeño y los errores de predicción son grandes\n",
    "\n",
    "El MAE tiene las mismas unidades que la variable objetivo, lo que facilita su interpretación"
   ]
  },
  {
   "cell_type": "markdown",
   "metadata": {},
   "source": [
    "---"
   ]
  },
  {
   "cell_type": "markdown",
   "metadata": {},
   "source": [
    "#### R² Score (Coeficiente de Determinación)"
   ]
  },
  {
   "cell_type": "markdown",
   "metadata": {},
   "source": [
    "El R² es una medida estadística que indica la proporción de la varianza en la variable dependiente que es explicada por las variables independientes en el modelo\n",
    "\n",
    "* Interpretación:\n",
    "    * Valor cercano a 1: Indica que el modelo explica bien la variabilidad de los datos\n",
    "    * Valor cercano a 0: Indica que el modelo no explica bien la variabilidad de los datos\n",
    "    * Valor negativo: Indica que el modelo es peor que un modelo que simplemente predice la media de los valores reales"
   ]
  },
  {
   "cell_type": "markdown",
   "metadata": {},
   "source": [
    "## Selección del mejor modelo"
   ]
  },
  {
   "cell_type": "code",
   "execution_count": 13,
   "metadata": {},
   "outputs": [
    {
     "name": "stdout",
     "output_type": "stream",
     "text": [
      "Best RMSE for RandomForest: 1.738827271949527\n",
      "Best MAE for RandomForest: 1.375885497141551\n",
      "Best R² for RandomForest: 0.21952536160502376\n",
      "--------------------------------------------------\n",
      "Best RMSE for GradientBoosting: 1.7557023966984702\n",
      "Best MAE for GradientBoosting: 1.3901887979167975\n",
      "Best R² for GradientBoosting: 0.2050562807726662\n",
      "--------------------------------------------------\n",
      "Best RMSE for XGB: 1.7630249206023307\n",
      "Best MAE for XGB: 1.3964894171494706\n",
      "Best R² for XGB: 0.20216615192237347\n",
      "--------------------------------------------------\n",
      "Best RMSE for CatBoost: 1.7796662262367036\n",
      "Best MAE for CatBoost: 1.3915790190762392\n",
      "Best R² for CatBoost: 0.1871889980218951\n",
      "--------------------------------------------------\n",
      "Best RMSE for Ridge Regression: 1.8750641436547333\n",
      "Best MAE for Ridge Regression: 1.4978376861560603\n",
      "Best R² for Ridge Regression: 0.09718535759347866\n",
      "--------------------------------------------------\n",
      "Best RMSE for Lasso Regression: 1.892726248569092\n",
      "Best MAE for Lasso Regression: 1.5164749686065524\n",
      "Best R² for Lasso Regression: 0.08357252902231067\n",
      "--------------------------------------------------\n",
      "Best RMSE for ElasticNet: 1.8727079578217523\n",
      "Best MAE for ElasticNet: 1.4973234607781483\n",
      "Best R² for ElasticNet: 0.1012124431199529\n",
      "--------------------------------------------------\n",
      "Best RMSE for SGD Regression: 1.8653956084334287\n",
      "Best MAE for SGD Regression: 1.4884728152334517\n",
      "Best R² for SGD Regression: 0.10755727755794346\n",
      "--------------------------------------------------\n",
      "Best RMSE for Decision Tree Regressor: 2.1308748093916625\n",
      "Best MAE for Decision Tree Regressor: 1.686458877233877\n",
      "Best R² for Decision Tree Regressor: -0.17570293754353694\n",
      "--------------------------------------------------\n",
      "Best models saved and results stored in r2_best_models_results.txt\n"
     ]
    }
   ],
   "source": [
    "for model_name, (model, params) in models.items():\n",
    "    # Búsqueda de hiperparámetros optimizada por RMSE\n",
    "    grid_search_rmse = GridSearchCV(model, params, scoring='neg_root_mean_squared_error', cv=10)\n",
    "    grid_search_rmse.fit(X_train, y_train)\n",
    "    rmse = -grid_search_rmse.best_score_  # RMSE en validación\n",
    "    print(f\"Best RMSE for {model_name}: {rmse}\")\n",
    "    \n",
    "    # Búsqueda de hiperparámetros optimizada por MAE\n",
    "    grid_search_mae = GridSearchCV(model, params, scoring='neg_mean_absolute_error', cv=10)\n",
    "    grid_search_mae.fit(X_train, y_train)\n",
    "    mae = -grid_search_mae.best_score_  # MAE en validación\n",
    "    print(f\"Best MAE for {model_name}: {mae}\")\n",
    "    \n",
    "    # Búsqueda de hiperparámetros optimizada por R²\n",
    "    grid_search_r2 = GridSearchCV(model, params, scoring='r2', cv=10)\n",
    "    grid_search_r2.fit(X_train, y_train)\n",
    "    r2 = grid_search_r2.best_score_  # R² en validación\n",
    "    print(f\"Best R² for {model_name}: {r2}\")\n",
    "    print(\"-\" * 50)\n",
    "    \n",
    "    # Predicción en el conjunto de prueba con el mejor modelo por RMSE\n",
    "    best_model_rmse_current = grid_search_rmse.best_estimator_\n",
    "    y_pred_rmse = best_model_rmse_current.predict(X_test)\n",
    "    test_rmse = root_mean_squared_error(y_test, y_pred_rmse)\n",
    "    \n",
    "    # Predicción en el conjunto de prueba con el mejor modelo por MAE\n",
    "    best_model_mae_current = grid_search_mae.best_estimator_\n",
    "    y_pred_mae = best_model_mae_current.predict(X_test)\n",
    "    test_mae = mean_absolute_error(y_test, y_pred_mae)\n",
    "    \n",
    "    # Predicción en el conjunto de prueba con el mejor modelo por R²\n",
    "    best_model_r2_current = grid_search_r2.best_estimator_\n",
    "    y_pred_r2 = best_model_r2_current.predict(X_test)\n",
    "    test_r2 = r2_score(y_test, y_pred_r2)\n",
    "    \n",
    "    # Guardar el modelo con el mejor RMSE\n",
    "    if rmse < best_score_rmse:\n",
    "        best_score_rmse = rmse\n",
    "        best_model_rmse = best_model_rmse_current\n",
    "        best_params_rmse = grid_search_rmse.best_params_\n",
    "    \n",
    "    # Guardar el modelo con el mejor MAE\n",
    "    if mae < best_score_mae:\n",
    "        best_score_mae = mae\n",
    "        best_model_mae = best_model_mae_current\n",
    "        best_params_mae = grid_search_mae.best_params_\n",
    "\n",
    "    # Guardar el modelo con el mejor R²\n",
    "    if r2 > best_score_r2:\n",
    "        best_score_r2 = r2\n",
    "        best_model_r2 = best_model_r2_current\n",
    "        best_params_r2 = grid_search_r2.best_params_\n",
    "\n",
    "# Guardar los mejores modelos y sus hiperparámetros en un archivo de texto\n",
    "with open(\"r2_best_models_results.txt\", \"w\") as file:\n",
    "    file.write(\"Best Model by RMSE:\\n\")\n",
    "    file.write(f\"Best RMSE on validation set: {best_score_rmse:.4f}\\n\")\n",
    "    file.write(\"Best Parameters (RMSE):\\n\")\n",
    "    for param, value in best_params_rmse.items():\n",
    "        file.write(f\"  {param}: {value}\\n\")\n",
    "    file.write(\"\\n\")\n",
    "    \n",
    "    file.write(\"Best Model by MAE:\\n\")\n",
    "    file.write(f\"Best MAE on validation set: {best_score_mae:.4f}\\n\")\n",
    "    file.write(\"Best Parameters (MAE):\\n\")\n",
    "    for param, value in best_params_mae.items():\n",
    "        file.write(f\"  {param}: {value}\\n\")\n",
    "    file.write(\"\\n\")\n",
    "    \n",
    "    file.write(\"Best Model by R²:\\n\")\n",
    "    file.write(f\"Best R² on validation set: {best_score_r2:.4f}\\n\")\n",
    "    file.write(\"Best Parameters (R²):\\n\")\n",
    "    for param, value in best_params_r2.items():\n",
    "        file.write(f\"  {param}: {value}\\n\")\n",
    "\n",
    "print(\"Best models saved and results stored in r2_best_models_results.txt\")"
   ]
  },
  {
   "cell_type": "markdown",
   "metadata": {},
   "source": [
    "## Guardado de los modelos según cada métrica"
   ]
  },
  {
   "cell_type": "code",
   "execution_count": 14,
   "metadata": {},
   "outputs": [
    {
     "data": {
      "text/plain": [
       "['r2_models/r2_best_model_r2.joblib']"
      ]
     },
     "execution_count": 14,
     "metadata": {},
     "output_type": "execute_result"
    }
   ],
   "source": [
    "# Guardar los mejores modelos según cada métrica\n",
    "dump(best_model_rmse, \"r2_models/r2_best_model_rmse.joblib\")\n",
    "dump(best_model_mae, \"r2_models/r2_best_model_mae.joblib\")\n",
    "dump(best_model_r2, \"r2_models/r2_best_model_r2.joblib\")"
   ]
  },
  {
   "cell_type": "code",
   "execution_count": null,
   "metadata": {},
   "outputs": [],
   "source": []
  }
 ],
 "metadata": {
  "kernelspec": {
   "display_name": ".venv",
   "language": "python",
   "name": "python3"
  },
  "language_info": {
   "codemirror_mode": {
    "name": "ipython",
    "version": 3
   },
   "file_extension": ".py",
   "mimetype": "text/x-python",
   "name": "python",
   "nbconvert_exporter": "python",
   "pygments_lexer": "ipython3",
   "version": "3.12.3"
  },
  "orig_nbformat": 4
 },
 "nbformat": 4,
 "nbformat_minor": 2
}
