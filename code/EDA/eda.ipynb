{
 "cells": [
  {
   "cell_type": "markdown",
   "metadata": {},
   "source": [
    "# EDA"
   ]
  },
  {
   "cell_type": "markdown",
   "metadata": {},
   "source": [
    "## Librerías"
   ]
  },
  {
   "cell_type": "code",
   "execution_count": 1,
   "metadata": {},
   "outputs": [
    {
     "name": "stderr",
     "output_type": "stream",
     "text": [
      "c:\\dev\\proyecto_final_talento_tech\\.venv\\Lib\\site-packages\\tqdm\\auto.py:21: TqdmWarning: IProgress not found. Please update jupyter and ipywidgets. See https://ipywidgets.readthedocs.io/en/stable/user_install.html\n",
      "  from .autonotebook import tqdm as notebook_tqdm\n"
     ]
    }
   ],
   "source": [
    "import pandas as pd\n",
    "from ydata_profiling import ProfileReport"
   ]
  },
  {
   "cell_type": "markdown",
   "metadata": {},
   "source": [
    "## Lectura del conjunto de datos"
   ]
  },
  {
   "cell_type": "code",
   "execution_count": 2,
   "metadata": {},
   "outputs": [
    {
     "data": {
      "text/html": [
       "<div>\n",
       "<style scoped>\n",
       "    .dataframe tbody tr th:only-of-type {\n",
       "        vertical-align: middle;\n",
       "    }\n",
       "\n",
       "    .dataframe tbody tr th {\n",
       "        vertical-align: top;\n",
       "    }\n",
       "\n",
       "    .dataframe thead th {\n",
       "        text-align: right;\n",
       "    }\n",
       "</style>\n",
       "<table border=\"1\" class=\"dataframe\">\n",
       "  <thead>\n",
       "    <tr style=\"text-align: right;\">\n",
       "      <th></th>\n",
       "      <th>date</th>\n",
       "      <th>ric</th>\n",
       "      <th>nat</th>\n",
       "      <th>pl</th>\n",
       "      <th>em</th>\n",
       "      <th>ml</th>\n",
       "      <th>rie</th>\n",
       "      <th>g75µ</th>\n",
       "      <th>g45µ</th>\n",
       "      <th>sba</th>\n",
       "      <th>...</th>\n",
       "      <th>r91_iram1622</th>\n",
       "      <th>pf</th>\n",
       "      <th>so3</th>\n",
       "      <th>mgo</th>\n",
       "      <th>sio2</th>\n",
       "      <th>fe2o3</th>\n",
       "      <th>caot</th>\n",
       "      <th>al2o3</th>\n",
       "      <th>na2o</th>\n",
       "      <th>k2o</th>\n",
       "    </tr>\n",
       "  </thead>\n",
       "  <tbody>\n",
       "    <tr>\n",
       "      <th>0</th>\n",
       "      <td>2018-01-02</td>\n",
       "      <td>7707ST</td>\n",
       "      <td>AC</td>\n",
       "      <td>3</td>\n",
       "      <td>LML</td>\n",
       "      <td>3</td>\n",
       "      <td>7707ST</td>\n",
       "      <td>0.34</td>\n",
       "      <td>4.22</td>\n",
       "      <td>396.0</td>\n",
       "      <td>...</td>\n",
       "      <td>NaN</td>\n",
       "      <td>1.83</td>\n",
       "      <td>2.89</td>\n",
       "      <td>0.99</td>\n",
       "      <td>22.16</td>\n",
       "      <td>4.60</td>\n",
       "      <td>60.98</td>\n",
       "      <td>4.86</td>\n",
       "      <td>0.10</td>\n",
       "      <td>1.14</td>\n",
       "    </tr>\n",
       "    <tr>\n",
       "      <th>1</th>\n",
       "      <td>2018-01-02</td>\n",
       "      <td>7702ST</td>\n",
       "      <td>AC</td>\n",
       "      <td>2</td>\n",
       "      <td>LML</td>\n",
       "      <td>2</td>\n",
       "      <td>7702ST</td>\n",
       "      <td>0.68</td>\n",
       "      <td>4.45</td>\n",
       "      <td>399.0</td>\n",
       "      <td>...</td>\n",
       "      <td>NaN</td>\n",
       "      <td>1.58</td>\n",
       "      <td>2.88</td>\n",
       "      <td>0.71</td>\n",
       "      <td>22.62</td>\n",
       "      <td>4.08</td>\n",
       "      <td>61.09</td>\n",
       "      <td>4.58</td>\n",
       "      <td>0.13</td>\n",
       "      <td>1.01</td>\n",
       "    </tr>\n",
       "    <tr>\n",
       "      <th>2</th>\n",
       "      <td>2018-01-05</td>\n",
       "      <td>7722ST</td>\n",
       "      <td>AC</td>\n",
       "      <td>2</td>\n",
       "      <td>LML</td>\n",
       "      <td>2</td>\n",
       "      <td>7722ST</td>\n",
       "      <td>0.68</td>\n",
       "      <td>4.45</td>\n",
       "      <td>399.0</td>\n",
       "      <td>...</td>\n",
       "      <td>NaN</td>\n",
       "      <td>1.83</td>\n",
       "      <td>2.90</td>\n",
       "      <td>0.90</td>\n",
       "      <td>22.76</td>\n",
       "      <td>4.49</td>\n",
       "      <td>61.90</td>\n",
       "      <td>4.69</td>\n",
       "      <td>0.12</td>\n",
       "      <td>1.02</td>\n",
       "    </tr>\n",
       "    <tr>\n",
       "      <th>3</th>\n",
       "      <td>2018-01-07</td>\n",
       "      <td>7726ST</td>\n",
       "      <td>AC</td>\n",
       "      <td>3</td>\n",
       "      <td>LML</td>\n",
       "      <td>3</td>\n",
       "      <td>7726ST</td>\n",
       "      <td>0.81</td>\n",
       "      <td>4.59</td>\n",
       "      <td>394.0</td>\n",
       "      <td>...</td>\n",
       "      <td>NaN</td>\n",
       "      <td>1.97</td>\n",
       "      <td>2.84</td>\n",
       "      <td>0.72</td>\n",
       "      <td>22.45</td>\n",
       "      <td>4.08</td>\n",
       "      <td>61.75</td>\n",
       "      <td>4.57</td>\n",
       "      <td>0.12</td>\n",
       "      <td>1.02</td>\n",
       "    </tr>\n",
       "    <tr>\n",
       "      <th>4</th>\n",
       "      <td>2018-01-08</td>\n",
       "      <td>7729ST</td>\n",
       "      <td>AC</td>\n",
       "      <td>2</td>\n",
       "      <td>LML</td>\n",
       "      <td>2</td>\n",
       "      <td>7729ST</td>\n",
       "      <td>0.38</td>\n",
       "      <td>3.46</td>\n",
       "      <td>392.0</td>\n",
       "      <td>...</td>\n",
       "      <td>NaN</td>\n",
       "      <td>2.01</td>\n",
       "      <td>2.85</td>\n",
       "      <td>0.69</td>\n",
       "      <td>22.67</td>\n",
       "      <td>4.16</td>\n",
       "      <td>61.07</td>\n",
       "      <td>4.64</td>\n",
       "      <td>0.13</td>\n",
       "      <td>1.04</td>\n",
       "    </tr>\n",
       "  </tbody>\n",
       "</table>\n",
       "<p>5 rows × 25 columns</p>\n",
       "</div>"
      ],
      "text/plain": [
       "         date     ric nat  pl   em  ml     rie  g75µ  g45µ    sba  ...  \\\n",
       "0  2018-01-02  7707ST  AC   3  LML   3  7707ST  0.34  4.22  396.0  ...   \n",
       "1  2018-01-02  7702ST  AC   2  LML   2  7702ST  0.68  4.45  399.0  ...   \n",
       "2  2018-01-05  7722ST  AC   2  LML   2  7722ST  0.68  4.45  399.0  ...   \n",
       "3  2018-01-07  7726ST  AC   3  LML   3  7726ST  0.81  4.59  394.0  ...   \n",
       "4  2018-01-08  7729ST  AC   2  LML   2  7729ST  0.38  3.46  392.0  ...   \n",
       "\n",
       "   r91_iram1622    pf   so3   mgo   sio2  fe2o3   caot  al2o3  na2o   k2o  \n",
       "0           NaN  1.83  2.89  0.99  22.16   4.60  60.98   4.86  0.10  1.14  \n",
       "1           NaN  1.58  2.88  0.71  22.62   4.08  61.09   4.58  0.13  1.01  \n",
       "2           NaN  1.83  2.90  0.90  22.76   4.49  61.90   4.69  0.12  1.02  \n",
       "3           NaN  1.97  2.84  0.72  22.45   4.08  61.75   4.57  0.12  1.02  \n",
       "4           NaN  2.01  2.85  0.69  22.67   4.16  61.07   4.64  0.13  1.04  \n",
       "\n",
       "[5 rows x 25 columns]"
      ]
     },
     "execution_count": 2,
     "metadata": {},
     "output_type": "execute_result"
    }
   ],
   "source": [
    "df = pd.read_csv('../data/CPN50_cement_composition_strength.csv')\n",
    "\n",
    "df.drop(columns=['Unnamed: 0'], inplace=True)\n",
    "df.head()"
   ]
  },
  {
   "cell_type": "markdown",
   "metadata": {},
   "source": [
    "## EDA usando la librería ydata_profiling"
   ]
  },
  {
   "cell_type": "code",
   "execution_count": 3,
   "metadata": {},
   "outputs": [
    {
     "name": "stderr",
     "output_type": "stream",
     "text": [
      "Summarize dataset: 100%|██████████| 324/324 [01:18<00:00,  4.14it/s, Completed]                         \n",
      "Generate report structure: 100%|██████████| 1/1 [00:20<00:00, 20.94s/it]\n",
      "Render HTML: 100%|██████████| 1/1 [00:14<00:00, 14.54s/it]\n",
      "Export report to file: 100%|██████████| 1/1 [00:00<00:00,  6.01it/s]\n"
     ]
    }
   ],
   "source": [
    "profile = ProfileReport(df, title=\"Cement Profiling Report\")\n",
    "profile.to_file(\"cement_report_prepared.html\")"
   ]
  },
  {
   "cell_type": "markdown",
   "metadata": {},
   "source": [
    "## Definiciones posteriores al EDA"
   ]
  },
  {
   "cell_type": "markdown",
   "metadata": {},
   "source": [
    "* La columna ``r91_iram1622`` no tiene datos, por lo que se eliminará del conjunto de datos\n",
    "* Las columnas ``g75µ`` y ``g45µ`` están altamente correlacionadas, y viendo los valores faltantes y ceros, se eliminará la columna ``g75µ`` y nos quedaremos con ``g45µ``\n",
    "* Por definiciones de negocio, las columnas ``date``, ``ric``, ``nat``, ``pl``, ``em``, ``ml`` y ``rie`` no aportan valor para el modelado de los datos, ya que corresponden a fechas, molinos, identificadores, constantes\n",
    "* Las columnas caracterísiticas que tengan valores faltantes se eliminarán con el fin de mantener integridad en los datos y confiabilidad con el resultado al emplear datos reales\n",
    "* Se evaluará la posibilidad de modelar las resistencias usando modelos de machine learning"
   ]
  },
  {
   "cell_type": "markdown",
   "metadata": {},
   "source": []
  }
 ],
 "metadata": {
  "kernelspec": {
   "display_name": ".venv",
   "language": "python",
   "name": "python3"
  },
  "language_info": {
   "codemirror_mode": {
    "name": "ipython",
    "version": 3
   },
   "file_extension": ".py",
   "mimetype": "text/x-python",
   "name": "python",
   "nbconvert_exporter": "python",
   "pygments_lexer": "ipython3",
   "version": "3.12.3"
  },
  "orig_nbformat": 4
 },
 "nbformat": 4,
 "nbformat_minor": 2
}
